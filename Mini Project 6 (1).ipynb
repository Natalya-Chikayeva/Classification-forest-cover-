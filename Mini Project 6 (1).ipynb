{
 "cells": [
  {
   "cell_type": "markdown",
   "id": "2212ca69",
   "metadata": {},
   "source": [
    "# Effect of prior in classification for forest cover"
   ]
  },
  {
   "cell_type": "markdown",
   "id": "1b5f9758",
   "metadata": {},
   "source": [
    "## Context "
   ]
  },
  {
   "cell_type": "markdown",
   "id": "65586e25",
   "metadata": {},
   "source": [
    "The purpose of this mini-project is to conduct experiments and study various classification algorithms from supersized machine learning. In this mini-project, 5 main issues will be considered, implemented and described. The main questions are:\n",
    "1. Uploading the forest cover dataset with using sklearn and further dividing it into a binary classification subset, creating a classification model and fixing its results\n",
    "2. Do a comparison of different classifiers in terms of accuracy\n",
    "3. Study the effect of different sizes of the training data set on the final result of the model accuracy\n",
    "4. Convert the dataset to two dimensions using Principal Component Analsysis and study the impact on the model\n",
    "5. Explore what happens when the class priors in the training data are different from the class priors in the testing data with different models\n"
   ]
  },
  {
   "cell_type": "markdown",
   "id": "64594d18",
   "metadata": {},
   "source": [
    "#### Data Collection"
   ]
  },
  {
   "cell_type": "markdown",
   "id": "84ba1916",
   "metadata": {},
   "source": [
    "Import Python Libraries\n",
    "First import the libraries to be able to call functions that needed for this prject. In this project the most useful libraries are:"
   ]
  },
  {
   "cell_type": "code",
   "execution_count": 1,
   "id": "fff27e2d",
   "metadata": {},
   "outputs": [],
   "source": [
    "import pandas as pd\n",
    "import numpy as np\n",
    "\n",
    "from sklearn import datasets\n",
    "\n",
    "import sklearn.model_selection \n",
    "from sklearn.linear_model import LogisticRegression\n",
    "from sklearn.tree import DecisionTreeClassifier\n",
    "from sklearn.neighbors import KNeighborsClassifier\n",
    "from sklearn.discriminant_analysis import LinearDiscriminantAnalysis\n",
    "from sklearn.naive_bayes import GaussianNB\n",
    "from sklearn.ensemble import RandomForestClassifier\n",
    "from sklearn.svm import SVC\n",
    "import sklearn.metrics\n",
    "import sklearn.preprocessing\n",
    "from sklearn import model_selection\n",
    "\n",
    "from sklearn.metrics import accuracy_score, confusion_matrix, classification_report\n",
    "\n",
    "import matplotlib.pyplot as plt\n",
    "import plotly.express as px\n",
    "import seaborn as sns"
   ]
  },
  {
   "cell_type": "markdown",
   "id": "15df2971",
   "metadata": {},
   "source": [
    "#### Import all datasets and short characteristics"
   ]
  },
  {
   "cell_type": "markdown",
   "id": "7bfc585f",
   "metadata": {},
   "source": [
    "The dataset from scikit-learn and for it uploading first we need look into keys it has"
   ]
  },
  {
   "cell_type": "code",
   "execution_count": 2,
   "id": "1fe31442",
   "metadata": {},
   "outputs": [
    {
     "name": "stdout",
     "output_type": "stream",
     "text": [
      "dict_keys(['data', 'target', 'frame', 'target_names', 'feature_names', 'DESCR'])\n"
     ]
    }
   ],
   "source": [
    "data = datasets.fetch_covtype()\n",
    "print(data.keys())"
   ]
  },
  {
   "cell_type": "markdown",
   "id": "6b460667",
   "metadata": {},
   "source": [
    "Data is downloaded when accessing the link\n",
    "\n",
    "https://scikit- learn.org/stable/datasets/real_world.html#forest-covertypes"
   ]
  },
  {
   "cell_type": "code",
   "execution_count": 3,
   "id": "c3695220",
   "metadata": {},
   "outputs": [
    {
     "data": {
      "text/html": [
       "<div>\n",
       "<style scoped>\n",
       "    .dataframe tbody tr th:only-of-type {\n",
       "        vertical-align: middle;\n",
       "    }\n",
       "\n",
       "    .dataframe tbody tr th {\n",
       "        vertical-align: top;\n",
       "    }\n",
       "\n",
       "    .dataframe thead th {\n",
       "        text-align: right;\n",
       "    }\n",
       "</style>\n",
       "<table border=\"1\" class=\"dataframe\">\n",
       "  <thead>\n",
       "    <tr style=\"text-align: right;\">\n",
       "      <th></th>\n",
       "      <th>Elevation</th>\n",
       "      <th>Aspect</th>\n",
       "      <th>Slope</th>\n",
       "      <th>Horizontal_Distance_To_Hydrology</th>\n",
       "      <th>Vertical_Distance_To_Hydrology</th>\n",
       "      <th>Horizontal_Distance_To_Roadways</th>\n",
       "      <th>Hillshade_9am</th>\n",
       "      <th>Hillshade_Noon</th>\n",
       "      <th>Hillshade_3pm</th>\n",
       "      <th>Horizontal_Distance_To_Fire_Points</th>\n",
       "      <th>...</th>\n",
       "      <th>Soil_Type_31</th>\n",
       "      <th>Soil_Type_32</th>\n",
       "      <th>Soil_Type_33</th>\n",
       "      <th>Soil_Type_34</th>\n",
       "      <th>Soil_Type_35</th>\n",
       "      <th>Soil_Type_36</th>\n",
       "      <th>Soil_Type_37</th>\n",
       "      <th>Soil_Type_38</th>\n",
       "      <th>Soil_Type_39</th>\n",
       "      <th>target</th>\n",
       "    </tr>\n",
       "  </thead>\n",
       "  <tbody>\n",
       "    <tr>\n",
       "      <th>0</th>\n",
       "      <td>2596.0</td>\n",
       "      <td>51.0</td>\n",
       "      <td>3.0</td>\n",
       "      <td>258.0</td>\n",
       "      <td>0.0</td>\n",
       "      <td>510.0</td>\n",
       "      <td>221.0</td>\n",
       "      <td>232.0</td>\n",
       "      <td>148.0</td>\n",
       "      <td>6279.0</td>\n",
       "      <td>...</td>\n",
       "      <td>0.0</td>\n",
       "      <td>0.0</td>\n",
       "      <td>0.0</td>\n",
       "      <td>0.0</td>\n",
       "      <td>0.0</td>\n",
       "      <td>0.0</td>\n",
       "      <td>0.0</td>\n",
       "      <td>0.0</td>\n",
       "      <td>0.0</td>\n",
       "      <td>5</td>\n",
       "    </tr>\n",
       "    <tr>\n",
       "      <th>1</th>\n",
       "      <td>2590.0</td>\n",
       "      <td>56.0</td>\n",
       "      <td>2.0</td>\n",
       "      <td>212.0</td>\n",
       "      <td>-6.0</td>\n",
       "      <td>390.0</td>\n",
       "      <td>220.0</td>\n",
       "      <td>235.0</td>\n",
       "      <td>151.0</td>\n",
       "      <td>6225.0</td>\n",
       "      <td>...</td>\n",
       "      <td>0.0</td>\n",
       "      <td>0.0</td>\n",
       "      <td>0.0</td>\n",
       "      <td>0.0</td>\n",
       "      <td>0.0</td>\n",
       "      <td>0.0</td>\n",
       "      <td>0.0</td>\n",
       "      <td>0.0</td>\n",
       "      <td>0.0</td>\n",
       "      <td>5</td>\n",
       "    </tr>\n",
       "    <tr>\n",
       "      <th>2</th>\n",
       "      <td>2804.0</td>\n",
       "      <td>139.0</td>\n",
       "      <td>9.0</td>\n",
       "      <td>268.0</td>\n",
       "      <td>65.0</td>\n",
       "      <td>3180.0</td>\n",
       "      <td>234.0</td>\n",
       "      <td>238.0</td>\n",
       "      <td>135.0</td>\n",
       "      <td>6121.0</td>\n",
       "      <td>...</td>\n",
       "      <td>0.0</td>\n",
       "      <td>0.0</td>\n",
       "      <td>0.0</td>\n",
       "      <td>0.0</td>\n",
       "      <td>0.0</td>\n",
       "      <td>0.0</td>\n",
       "      <td>0.0</td>\n",
       "      <td>0.0</td>\n",
       "      <td>0.0</td>\n",
       "      <td>2</td>\n",
       "    </tr>\n",
       "    <tr>\n",
       "      <th>3</th>\n",
       "      <td>2785.0</td>\n",
       "      <td>155.0</td>\n",
       "      <td>18.0</td>\n",
       "      <td>242.0</td>\n",
       "      <td>118.0</td>\n",
       "      <td>3090.0</td>\n",
       "      <td>238.0</td>\n",
       "      <td>238.0</td>\n",
       "      <td>122.0</td>\n",
       "      <td>6211.0</td>\n",
       "      <td>...</td>\n",
       "      <td>0.0</td>\n",
       "      <td>0.0</td>\n",
       "      <td>0.0</td>\n",
       "      <td>0.0</td>\n",
       "      <td>0.0</td>\n",
       "      <td>0.0</td>\n",
       "      <td>0.0</td>\n",
       "      <td>0.0</td>\n",
       "      <td>0.0</td>\n",
       "      <td>2</td>\n",
       "    </tr>\n",
       "    <tr>\n",
       "      <th>4</th>\n",
       "      <td>2595.0</td>\n",
       "      <td>45.0</td>\n",
       "      <td>2.0</td>\n",
       "      <td>153.0</td>\n",
       "      <td>-1.0</td>\n",
       "      <td>391.0</td>\n",
       "      <td>220.0</td>\n",
       "      <td>234.0</td>\n",
       "      <td>150.0</td>\n",
       "      <td>6172.0</td>\n",
       "      <td>...</td>\n",
       "      <td>0.0</td>\n",
       "      <td>0.0</td>\n",
       "      <td>0.0</td>\n",
       "      <td>0.0</td>\n",
       "      <td>0.0</td>\n",
       "      <td>0.0</td>\n",
       "      <td>0.0</td>\n",
       "      <td>0.0</td>\n",
       "      <td>0.0</td>\n",
       "      <td>5</td>\n",
       "    </tr>\n",
       "  </tbody>\n",
       "</table>\n",
       "<p>5 rows × 55 columns</p>\n",
       "</div>"
      ],
      "text/plain": [
       "   Elevation  Aspect  Slope  Horizontal_Distance_To_Hydrology  \\\n",
       "0     2596.0    51.0    3.0                             258.0   \n",
       "1     2590.0    56.0    2.0                             212.0   \n",
       "2     2804.0   139.0    9.0                             268.0   \n",
       "3     2785.0   155.0   18.0                             242.0   \n",
       "4     2595.0    45.0    2.0                             153.0   \n",
       "\n",
       "   Vertical_Distance_To_Hydrology  Horizontal_Distance_To_Roadways  \\\n",
       "0                             0.0                            510.0   \n",
       "1                            -6.0                            390.0   \n",
       "2                            65.0                           3180.0   \n",
       "3                           118.0                           3090.0   \n",
       "4                            -1.0                            391.0   \n",
       "\n",
       "   Hillshade_9am  Hillshade_Noon  Hillshade_3pm  \\\n",
       "0          221.0           232.0          148.0   \n",
       "1          220.0           235.0          151.0   \n",
       "2          234.0           238.0          135.0   \n",
       "3          238.0           238.0          122.0   \n",
       "4          220.0           234.0          150.0   \n",
       "\n",
       "   Horizontal_Distance_To_Fire_Points  ...  Soil_Type_31  Soil_Type_32  \\\n",
       "0                              6279.0  ...           0.0           0.0   \n",
       "1                              6225.0  ...           0.0           0.0   \n",
       "2                              6121.0  ...           0.0           0.0   \n",
       "3                              6211.0  ...           0.0           0.0   \n",
       "4                              6172.0  ...           0.0           0.0   \n",
       "\n",
       "   Soil_Type_33  Soil_Type_34  Soil_Type_35  Soil_Type_36  Soil_Type_37  \\\n",
       "0           0.0           0.0           0.0           0.0           0.0   \n",
       "1           0.0           0.0           0.0           0.0           0.0   \n",
       "2           0.0           0.0           0.0           0.0           0.0   \n",
       "3           0.0           0.0           0.0           0.0           0.0   \n",
       "4           0.0           0.0           0.0           0.0           0.0   \n",
       "\n",
       "   Soil_Type_38  Soil_Type_39  target  \n",
       "0           0.0           0.0       5  \n",
       "1           0.0           0.0       5  \n",
       "2           0.0           0.0       2  \n",
       "3           0.0           0.0       2  \n",
       "4           0.0           0.0       5  \n",
       "\n",
       "[5 rows x 55 columns]"
      ]
     },
     "execution_count": 3,
     "metadata": {},
     "output_type": "execute_result"
    }
   ],
   "source": [
    "df = pd.DataFrame(data.data, columns=data.feature_names)\n",
    "df['target'] = data.target\n",
    "df.head()"
   ]
  },
  {
   "cell_type": "markdown",
   "id": "4099c5a2",
   "metadata": {},
   "source": [
    "Above in the table where the first 5 rows of the dataset is shown, for a more detailed consideration we will use the .info() function"
   ]
  },
  {
   "cell_type": "code",
   "execution_count": 4,
   "id": "0cbf313a",
   "metadata": {},
   "outputs": [
    {
     "name": "stdout",
     "output_type": "stream",
     "text": [
      "<class 'pandas.core.frame.DataFrame'>\n",
      "RangeIndex: 581012 entries, 0 to 581011\n",
      "Data columns (total 55 columns):\n",
      " #   Column                              Non-Null Count   Dtype  \n",
      "---  ------                              --------------   -----  \n",
      " 0   Elevation                           581012 non-null  float64\n",
      " 1   Aspect                              581012 non-null  float64\n",
      " 2   Slope                               581012 non-null  float64\n",
      " 3   Horizontal_Distance_To_Hydrology    581012 non-null  float64\n",
      " 4   Vertical_Distance_To_Hydrology      581012 non-null  float64\n",
      " 5   Horizontal_Distance_To_Roadways     581012 non-null  float64\n",
      " 6   Hillshade_9am                       581012 non-null  float64\n",
      " 7   Hillshade_Noon                      581012 non-null  float64\n",
      " 8   Hillshade_3pm                       581012 non-null  float64\n",
      " 9   Horizontal_Distance_To_Fire_Points  581012 non-null  float64\n",
      " 10  Wilderness_Area_0                   581012 non-null  float64\n",
      " 11  Wilderness_Area_1                   581012 non-null  float64\n",
      " 12  Wilderness_Area_2                   581012 non-null  float64\n",
      " 13  Wilderness_Area_3                   581012 non-null  float64\n",
      " 14  Soil_Type_0                         581012 non-null  float64\n",
      " 15  Soil_Type_1                         581012 non-null  float64\n",
      " 16  Soil_Type_2                         581012 non-null  float64\n",
      " 17  Soil_Type_3                         581012 non-null  float64\n",
      " 18  Soil_Type_4                         581012 non-null  float64\n",
      " 19  Soil_Type_5                         581012 non-null  float64\n",
      " 20  Soil_Type_6                         581012 non-null  float64\n",
      " 21  Soil_Type_7                         581012 non-null  float64\n",
      " 22  Soil_Type_8                         581012 non-null  float64\n",
      " 23  Soil_Type_9                         581012 non-null  float64\n",
      " 24  Soil_Type_10                        581012 non-null  float64\n",
      " 25  Soil_Type_11                        581012 non-null  float64\n",
      " 26  Soil_Type_12                        581012 non-null  float64\n",
      " 27  Soil_Type_13                        581012 non-null  float64\n",
      " 28  Soil_Type_14                        581012 non-null  float64\n",
      " 29  Soil_Type_15                        581012 non-null  float64\n",
      " 30  Soil_Type_16                        581012 non-null  float64\n",
      " 31  Soil_Type_17                        581012 non-null  float64\n",
      " 32  Soil_Type_18                        581012 non-null  float64\n",
      " 33  Soil_Type_19                        581012 non-null  float64\n",
      " 34  Soil_Type_20                        581012 non-null  float64\n",
      " 35  Soil_Type_21                        581012 non-null  float64\n",
      " 36  Soil_Type_22                        581012 non-null  float64\n",
      " 37  Soil_Type_23                        581012 non-null  float64\n",
      " 38  Soil_Type_24                        581012 non-null  float64\n",
      " 39  Soil_Type_25                        581012 non-null  float64\n",
      " 40  Soil_Type_26                        581012 non-null  float64\n",
      " 41  Soil_Type_27                        581012 non-null  float64\n",
      " 42  Soil_Type_28                        581012 non-null  float64\n",
      " 43  Soil_Type_29                        581012 non-null  float64\n",
      " 44  Soil_Type_30                        581012 non-null  float64\n",
      " 45  Soil_Type_31                        581012 non-null  float64\n",
      " 46  Soil_Type_32                        581012 non-null  float64\n",
      " 47  Soil_Type_33                        581012 non-null  float64\n",
      " 48  Soil_Type_34                        581012 non-null  float64\n",
      " 49  Soil_Type_35                        581012 non-null  float64\n",
      " 50  Soil_Type_36                        581012 non-null  float64\n",
      " 51  Soil_Type_37                        581012 non-null  float64\n",
      " 52  Soil_Type_38                        581012 non-null  float64\n",
      " 53  Soil_Type_39                        581012 non-null  float64\n",
      " 54  target                              581012 non-null  int32  \n",
      "dtypes: float64(54), int32(1)\n",
      "memory usage: 241.6 MB\n"
     ]
    }
   ],
   "source": [
    "df.info()"
   ]
  },
  {
   "cell_type": "markdown",
   "id": "1bf5687f",
   "metadata": {},
   "source": [
    "When using the .info() function above, the following important information is visible:\n",
    "- dataset contains 55 columns with forest cover characteristics\n",
    "- all elements in the dataset are numeric (float, integer) and this is important because there is no need to carry out separate manipulations to transform categorical elements into numeric ones\n",
    "- there are no nulls and missing values in the dataset, which means you can build models and study this dataset further without first cleaning the data\n",
    "- dataset contains 581012 forest cover instances"
   ]
  },
  {
   "cell_type": "markdown",
   "id": "58ac66ff",
   "metadata": {},
   "source": [
    "After uploading the dataset and reviewing its details, you can begin to get answers to previously posed questions"
   ]
  },
  {
   "cell_type": "markdown",
   "id": "3a39c7b3",
   "metadata": {},
   "source": [
    "### 1.  Create a binary classification subset by only consider type 1 (spruce/fir) and type2 (lodgepole pine). Calculate the classification accuracy of a random forest classifier using the default settings using half the instances for training and half the instances for testing  "
   ]
  },
  {
   "cell_type": "markdown",
   "id": "9000a4b4",
   "metadata": {},
   "source": [
    "Firstly, create a binary classification subset by only consider type 1 (spruce/fir) and type2 (lodgepole pine)."
   ]
  },
  {
   "cell_type": "code",
   "execution_count": 5,
   "id": "05662ae9",
   "metadata": {},
   "outputs": [
    {
     "data": {
      "text/html": [
       "<div>\n",
       "<style scoped>\n",
       "    .dataframe tbody tr th:only-of-type {\n",
       "        vertical-align: middle;\n",
       "    }\n",
       "\n",
       "    .dataframe tbody tr th {\n",
       "        vertical-align: top;\n",
       "    }\n",
       "\n",
       "    .dataframe thead th {\n",
       "        text-align: right;\n",
       "    }\n",
       "</style>\n",
       "<table border=\"1\" class=\"dataframe\">\n",
       "  <thead>\n",
       "    <tr style=\"text-align: right;\">\n",
       "      <th></th>\n",
       "      <th>Elevation</th>\n",
       "      <th>Aspect</th>\n",
       "      <th>Slope</th>\n",
       "      <th>Horizontal_Distance_To_Hydrology</th>\n",
       "      <th>Vertical_Distance_To_Hydrology</th>\n",
       "      <th>Horizontal_Distance_To_Roadways</th>\n",
       "      <th>Hillshade_9am</th>\n",
       "      <th>Hillshade_Noon</th>\n",
       "      <th>Hillshade_3pm</th>\n",
       "      <th>Horizontal_Distance_To_Fire_Points</th>\n",
       "      <th>...</th>\n",
       "      <th>Soil_Type_31</th>\n",
       "      <th>Soil_Type_32</th>\n",
       "      <th>Soil_Type_33</th>\n",
       "      <th>Soil_Type_34</th>\n",
       "      <th>Soil_Type_35</th>\n",
       "      <th>Soil_Type_36</th>\n",
       "      <th>Soil_Type_37</th>\n",
       "      <th>Soil_Type_38</th>\n",
       "      <th>Soil_Type_39</th>\n",
       "      <th>target</th>\n",
       "    </tr>\n",
       "  </thead>\n",
       "  <tbody>\n",
       "    <tr>\n",
       "      <th>2</th>\n",
       "      <td>2804.0</td>\n",
       "      <td>139.0</td>\n",
       "      <td>9.0</td>\n",
       "      <td>268.0</td>\n",
       "      <td>65.0</td>\n",
       "      <td>3180.0</td>\n",
       "      <td>234.0</td>\n",
       "      <td>238.0</td>\n",
       "      <td>135.0</td>\n",
       "      <td>6121.0</td>\n",
       "      <td>...</td>\n",
       "      <td>0.0</td>\n",
       "      <td>0.0</td>\n",
       "      <td>0.0</td>\n",
       "      <td>0.0</td>\n",
       "      <td>0.0</td>\n",
       "      <td>0.0</td>\n",
       "      <td>0.0</td>\n",
       "      <td>0.0</td>\n",
       "      <td>0.0</td>\n",
       "      <td>2</td>\n",
       "    </tr>\n",
       "    <tr>\n",
       "      <th>3</th>\n",
       "      <td>2785.0</td>\n",
       "      <td>155.0</td>\n",
       "      <td>18.0</td>\n",
       "      <td>242.0</td>\n",
       "      <td>118.0</td>\n",
       "      <td>3090.0</td>\n",
       "      <td>238.0</td>\n",
       "      <td>238.0</td>\n",
       "      <td>122.0</td>\n",
       "      <td>6211.0</td>\n",
       "      <td>...</td>\n",
       "      <td>0.0</td>\n",
       "      <td>0.0</td>\n",
       "      <td>0.0</td>\n",
       "      <td>0.0</td>\n",
       "      <td>0.0</td>\n",
       "      <td>0.0</td>\n",
       "      <td>0.0</td>\n",
       "      <td>0.0</td>\n",
       "      <td>0.0</td>\n",
       "      <td>2</td>\n",
       "    </tr>\n",
       "    <tr>\n",
       "      <th>5</th>\n",
       "      <td>2579.0</td>\n",
       "      <td>132.0</td>\n",
       "      <td>6.0</td>\n",
       "      <td>300.0</td>\n",
       "      <td>-15.0</td>\n",
       "      <td>67.0</td>\n",
       "      <td>230.0</td>\n",
       "      <td>237.0</td>\n",
       "      <td>140.0</td>\n",
       "      <td>6031.0</td>\n",
       "      <td>...</td>\n",
       "      <td>0.0</td>\n",
       "      <td>0.0</td>\n",
       "      <td>0.0</td>\n",
       "      <td>0.0</td>\n",
       "      <td>0.0</td>\n",
       "      <td>0.0</td>\n",
       "      <td>0.0</td>\n",
       "      <td>0.0</td>\n",
       "      <td>0.0</td>\n",
       "      <td>2</td>\n",
       "    </tr>\n",
       "    <tr>\n",
       "      <th>11</th>\n",
       "      <td>2886.0</td>\n",
       "      <td>151.0</td>\n",
       "      <td>11.0</td>\n",
       "      <td>371.0</td>\n",
       "      <td>26.0</td>\n",
       "      <td>5253.0</td>\n",
       "      <td>234.0</td>\n",
       "      <td>240.0</td>\n",
       "      <td>136.0</td>\n",
       "      <td>4051.0</td>\n",
       "      <td>...</td>\n",
       "      <td>0.0</td>\n",
       "      <td>0.0</td>\n",
       "      <td>0.0</td>\n",
       "      <td>0.0</td>\n",
       "      <td>0.0</td>\n",
       "      <td>0.0</td>\n",
       "      <td>0.0</td>\n",
       "      <td>0.0</td>\n",
       "      <td>0.0</td>\n",
       "      <td>2</td>\n",
       "    </tr>\n",
       "    <tr>\n",
       "      <th>12</th>\n",
       "      <td>2742.0</td>\n",
       "      <td>134.0</td>\n",
       "      <td>22.0</td>\n",
       "      <td>150.0</td>\n",
       "      <td>69.0</td>\n",
       "      <td>3215.0</td>\n",
       "      <td>248.0</td>\n",
       "      <td>224.0</td>\n",
       "      <td>92.0</td>\n",
       "      <td>6091.0</td>\n",
       "      <td>...</td>\n",
       "      <td>0.0</td>\n",
       "      <td>0.0</td>\n",
       "      <td>0.0</td>\n",
       "      <td>0.0</td>\n",
       "      <td>0.0</td>\n",
       "      <td>0.0</td>\n",
       "      <td>0.0</td>\n",
       "      <td>0.0</td>\n",
       "      <td>0.0</td>\n",
       "      <td>2</td>\n",
       "    </tr>\n",
       "  </tbody>\n",
       "</table>\n",
       "<p>5 rows × 55 columns</p>\n",
       "</div>"
      ],
      "text/plain": [
       "    Elevation  Aspect  Slope  Horizontal_Distance_To_Hydrology  \\\n",
       "2      2804.0   139.0    9.0                             268.0   \n",
       "3      2785.0   155.0   18.0                             242.0   \n",
       "5      2579.0   132.0    6.0                             300.0   \n",
       "11     2886.0   151.0   11.0                             371.0   \n",
       "12     2742.0   134.0   22.0                             150.0   \n",
       "\n",
       "    Vertical_Distance_To_Hydrology  Horizontal_Distance_To_Roadways  \\\n",
       "2                             65.0                           3180.0   \n",
       "3                            118.0                           3090.0   \n",
       "5                            -15.0                             67.0   \n",
       "11                            26.0                           5253.0   \n",
       "12                            69.0                           3215.0   \n",
       "\n",
       "    Hillshade_9am  Hillshade_Noon  Hillshade_3pm  \\\n",
       "2           234.0           238.0          135.0   \n",
       "3           238.0           238.0          122.0   \n",
       "5           230.0           237.0          140.0   \n",
       "11          234.0           240.0          136.0   \n",
       "12          248.0           224.0           92.0   \n",
       "\n",
       "    Horizontal_Distance_To_Fire_Points  ...  Soil_Type_31  Soil_Type_32  \\\n",
       "2                               6121.0  ...           0.0           0.0   \n",
       "3                               6211.0  ...           0.0           0.0   \n",
       "5                               6031.0  ...           0.0           0.0   \n",
       "11                              4051.0  ...           0.0           0.0   \n",
       "12                              6091.0  ...           0.0           0.0   \n",
       "\n",
       "    Soil_Type_33  Soil_Type_34  Soil_Type_35  Soil_Type_36  Soil_Type_37  \\\n",
       "2            0.0           0.0           0.0           0.0           0.0   \n",
       "3            0.0           0.0           0.0           0.0           0.0   \n",
       "5            0.0           0.0           0.0           0.0           0.0   \n",
       "11           0.0           0.0           0.0           0.0           0.0   \n",
       "12           0.0           0.0           0.0           0.0           0.0   \n",
       "\n",
       "    Soil_Type_38  Soil_Type_39  target  \n",
       "2            0.0           0.0       2  \n",
       "3            0.0           0.0       2  \n",
       "5            0.0           0.0       2  \n",
       "11           0.0           0.0       2  \n",
       "12           0.0           0.0       2  \n",
       "\n",
       "[5 rows x 55 columns]"
      ]
     },
     "execution_count": 5,
     "metadata": {},
     "output_type": "execute_result"
    }
   ],
   "source": [
    "subset = df[df[\"target\"] <= 2]\n",
    "subset.head()"
   ]
  },
  {
   "cell_type": "code",
   "execution_count": 6,
   "id": "d91b9686",
   "metadata": {},
   "outputs": [
    {
     "data": {
      "text/plain": [
       "(495141, 55)"
      ]
     },
     "execution_count": 6,
     "metadata": {},
     "output_type": "execute_result"
    }
   ],
   "source": [
    "subset.shape"
   ]
  },
  {
   "cell_type": "markdown",
   "id": "9e165c4b",
   "metadata": {},
   "source": [
    "The original dataset has been significantly reduced and its current size is 495141 forest covers and only two types of target (1,2)"
   ]
  },
  {
   "cell_type": "markdown",
   "id": "3b59317c",
   "metadata": {},
   "source": [
    "After creating new subset let's calculate the classification accuracy of a random forest classifier using half the instances for training and half the instances for testing"
   ]
  },
  {
   "cell_type": "markdown",
   "id": "a6bc92cb",
   "metadata": {},
   "source": [
    "#### Splitting the data into training and test sets"
   ]
  },
  {
   "cell_type": "markdown",
   "id": "74346f0e",
   "metadata": {},
   "source": [
    "For further training and testing of the future model, you need to divide the data into test and training in advance"
   ]
  },
  {
   "cell_type": "code",
   "execution_count": 7,
   "id": "8edc8e4b",
   "metadata": {},
   "outputs": [
    {
     "name": "stdout",
     "output_type": "stream",
     "text": [
      "df_train: (247570, 55)\n",
      "df_test: (247571, 55)\n"
     ]
    }
   ],
   "source": [
    "df_train, df_test = sklearn.model_selection.train_test_split(subset, test_size = 0.5)\n",
    "print(\"df_train:\", df_train.shape)\n",
    "print(\"df_test:\", df_test.shape)"
   ]
  },
  {
   "cell_type": "markdown",
   "id": "15d3cda4",
   "metadata": {},
   "source": [
    "#### Splitting Features and the Target Label¶"
   ]
  },
  {
   "cell_type": "markdown",
   "id": "7cc35c4d",
   "metadata": {},
   "source": [
    "When separating Features and the Target Label, we select the \"target\" column as the target, and the rest of the Features are all, except for the \"target\" column"
   ]
  },
  {
   "cell_type": "code",
   "execution_count": 8,
   "id": "a23efc41",
   "metadata": {},
   "outputs": [
    {
     "name": "stdout",
     "output_type": "stream",
     "text": [
      "x_train: (247570, 54)\n",
      "y_train: (247570,)\n",
      "x_test: (247571, 54)\n",
      "y_test: (247571,)\n"
     ]
    }
   ],
   "source": [
    "x_train = df_train.drop(['target'], axis=1)\n",
    "y_train = df_train['target']\n",
    "print(\"x_train:\", x_train.shape)\n",
    "print(\"y_train:\", y_train.shape)\n",
    "\n",
    "x_test = df_test.drop(['target'], axis=1)\n",
    "y_test = df_test['target']\n",
    "print(\"x_test:\", x_test.shape)\n",
    "print(\"y_test:\", y_test.shape)"
   ]
  },
  {
   "cell_type": "markdown",
   "id": "8078cee9",
   "metadata": {},
   "source": [
    "#### Training a Model"
   ]
  },
  {
   "cell_type": "markdown",
   "id": "4dde514d",
   "metadata": {},
   "source": [
    "Instantiate and fit the RandomForestClassifier"
   ]
  },
  {
   "cell_type": "code",
   "execution_count": 9,
   "id": "4f569cf9",
   "metadata": {},
   "outputs": [
    {
     "data": {
      "text/plain": [
       "RandomForestClassifier()"
      ]
     },
     "execution_count": 9,
     "metadata": {},
     "output_type": "execute_result"
    }
   ],
   "source": [
    "forest = RandomForestClassifier()\n",
    "forest.fit(x_train, y_train)"
   ]
  },
  {
   "cell_type": "markdown",
   "id": "9d3a6e1d",
   "metadata": {},
   "source": [
    "Make predictions for the test set"
   ]
  },
  {
   "cell_type": "code",
   "execution_count": 10,
   "id": "83fc9c6d",
   "metadata": {},
   "outputs": [],
   "source": [
    "y_pred_test = forest.predict(x_test)"
   ]
  },
  {
   "cell_type": "markdown",
   "id": "4f73618a",
   "metadata": {},
   "source": [
    "View accuracy score"
   ]
  },
  {
   "cell_type": "code",
   "execution_count": 11,
   "id": "bce82bed",
   "metadata": {},
   "outputs": [
    {
     "data": {
      "text/plain": [
       "0.954768531047659"
      ]
     },
     "execution_count": 11,
     "metadata": {},
     "output_type": "execute_result"
    }
   ],
   "source": [
    "accuracy_score(y_test, y_pred_test)"
   ]
  },
  {
   "cell_type": "markdown",
   "id": "e149f162",
   "metadata": {},
   "source": [
    "View the classification report for test data and predictions"
   ]
  },
  {
   "cell_type": "code",
   "execution_count": 12,
   "id": "962cff16",
   "metadata": {
    "scrolled": true
   },
   "outputs": [
    {
     "name": "stdout",
     "output_type": "stream",
     "text": [
      "              precision    recall  f1-score   support\n",
      "\n",
      "           1       0.96      0.93      0.95    106235\n",
      "           2       0.95      0.97      0.96    141336\n",
      "\n",
      "    accuracy                           0.95    247571\n",
      "   macro avg       0.96      0.95      0.95    247571\n",
      "weighted avg       0.95      0.95      0.95    247571\n",
      "\n"
     ]
    }
   ],
   "source": [
    "print(classification_report(y_test, y_pred_test))"
   ]
  },
  {
   "cell_type": "markdown",
   "id": "de608baf",
   "metadata": {},
   "source": [
    "Based on the results of consideration of the first question of the mini-project, it is possible to draw conclusions about the predictive ability of the model, which solves the problem of classifying forest cover from two types\n",
    "- the RandomForestClassifier() model was applied\n",
    "- this model showed a fairly high predictive ability, as evidenced by its accuracy, which is equal to 0.95\n",
    "- other indicators such as *precision, recall, f1-score* also showed a fairly high result, which indicates the minimum errors that are, in principle, acceptable"
   ]
  },
  {
   "cell_type": "markdown",
   "id": "e45ea74b",
   "metadata": {},
   "source": [
    "### 2. Do a comparison of different classifiers in terms of accuracy for the same data as the previous question -  to calculate the accuaracy for each classifier  "
   ]
  },
  {
   "cell_type": "markdown",
   "id": "c527ca0f",
   "metadata": {},
   "source": [
    "The second step will be a more extensive test of various models and their comparison with each other. We will build the following models:\n",
    "- LogisticRegression()\n",
    "- LinearDiscriminantAnalysis()\n",
    "- DecisionTreeClassifier()\n",
    "- RandomForestClassifier()\n",
    "- GaussianNB()"
   ]
  },
  {
   "cell_type": "code",
   "execution_count": 13,
   "id": "af39f31f",
   "metadata": {},
   "outputs": [],
   "source": [
    "import warnings\n",
    "warnings.filterwarnings(\"ignore\")"
   ]
  },
  {
   "cell_type": "code",
   "execution_count": 14,
   "id": "f33ee10c",
   "metadata": {},
   "outputs": [
    {
     "name": "stdout",
     "output_type": "stream",
     "text": [
      "LR: 0.753985 (0.004414)\n",
      "LDA: 0.774775 (0.001607)\n",
      "DTC: 0.930763 (0.000822)\n",
      "RFC: 0.949982 (0.001389)\n",
      "NB: 0.617559 (0.001950)\n"
     ]
    },
    {
     "data": {
      "image/png": "[encoded data removed]",
      "text/plain": [
       "<Figure size 360x360 with 1 Axes>"
      ]
     },
     "metadata": {
      "needs_background": "light"
     },
     "output_type": "display_data"
    }
   ],
   "source": [
    "# prepare configuration for cross validation test harness\n",
    "seed = 7\n",
    "# prepare models\n",
    "models = []\n",
    "models.append(('LR', LogisticRegression()))\n",
    "models.append(('LDA', LinearDiscriminantAnalysis()))\n",
    "models.append(('DTC', DecisionTreeClassifier()))\n",
    "models.append(('RFC', RandomForestClassifier()))\n",
    "models.append(('NB', GaussianNB()))\n",
    "# models.append(('SVM', SVC()))\n",
    "# evaluate each model in turn\n",
    "results = []\n",
    "names = []\n",
    "scoring = 'accuracy'\n",
    "for name, model in models:\n",
    "\tkfold = model_selection.KFold()\n",
    "\tcv_results = model_selection.cross_val_score(model, x_train, y_train, cv=kfold, scoring=scoring) \n",
    "\tresults.append(cv_results)\n",
    "\tnames.append(name)\n",
    "\tmsg = \"%s: %f (%f)\" % (name, cv_results.mean(), cv_results.std())\n",
    "\tprint(msg)\n",
    "# boxplot algorithm comparison\n",
    "fig = plt.figure(figsize=(5,5))\n",
    "fig.suptitle('Algorithm Comparison')\n",
    "ax = fig.add_subplot(111)\n",
    "plt.boxplot(results)\n",
    "ax.set_xticklabels(names)\n",
    "plt.show()"
   ]
  },
  {
   "cell_type": "markdown",
   "id": "e76e6834",
   "metadata": {},
   "source": [
    "Based on the results of building and comparing several models that solve the problem of classifying forest cover types, one can draw conclusions on and compare which of the models showed the best result, the best accuracy (95%) and the best predictive ability. It is obvious that this model is a RandomForestClassifier because its accuracy is much higher than the accuracy of other models"
   ]
  },
  {
   "cell_type": "markdown",
   "id": "c8e7c0b1",
   "metadata": {},
   "source": [
    "### 3. Examine the effect of class imbalance on classification using the random forest classifier. To do so resample the training set so that there class proportions for type 1 and type 2 in the training data are: 0.9-0.1, 0.8-0.2, 0.7-0.3, 0.6-0.4 and original (which is close to 0.5-0.5).  "
   ]
  },
  {
   "cell_type": "markdown",
   "id": "dbcde0a3",
   "metadata": {},
   "source": [
    "First, let's check the distribution of types in comparison with each other visually"
   ]
  },
  {
   "cell_type": "code",
   "execution_count": 15,
   "id": "858561de",
   "metadata": {},
   "outputs": [
    {
     "data": {
      "image/png": "[encoded data removed]",
      "text/plain": [
       "<Figure size 288x288 with 1 Axes>"
      ]
     },
     "metadata": {},
     "output_type": "display_data"
    }
   ],
   "source": [
    "df1 = subset.groupby('target').size()\n",
    "\n",
    "df1.plot(kind='pie', figsize=(4, 4))\n",
    "plt.title(\"Pie Chart of Types\")\n",
    "plt.ylabel(\"Types\")\n",
    "plt.show()"
   ]
  },
  {
   "cell_type": "markdown",
   "id": "e3be192c",
   "metadata": {},
   "source": [
    "The pie chart shows that type 2 takes up a little more of the data, i.e. it dominates"
   ]
  },
  {
   "cell_type": "markdown",
   "id": "b1bb3b27",
   "metadata": {},
   "source": [
    "Now let's build the same model on the same dataset, but consider different options for the distribution of training data. distribution and size in percentage terms are 50%/50%, 60%/40%, 70%/30%, 80%/20%, 90%/10%. And consider the influence of the size of the training dataset size on the final result - namely, what size will give the most accurate model and solve the classification problem"
   ]
  },
  {
   "cell_type": "code",
   "execution_count": 16,
   "id": "ec62e988",
   "metadata": {},
   "outputs": [
    {
     "data": {
      "text/html": [
       "<div>\n",
       "<style scoped>\n",
       "    .dataframe tbody tr th:only-of-type {\n",
       "        vertical-align: middle;\n",
       "    }\n",
       "\n",
       "    .dataframe tbody tr th {\n",
       "        vertical-align: top;\n",
       "    }\n",
       "\n",
       "    .dataframe thead th {\n",
       "        text-align: right;\n",
       "    }\n",
       "</style>\n",
       "<table border=\"1\" class=\"dataframe\">\n",
       "  <thead>\n",
       "    <tr style=\"text-align: right;\">\n",
       "      <th></th>\n",
       "      <th>Size</th>\n",
       "      <th>test_accuracy</th>\n",
       "    </tr>\n",
       "  </thead>\n",
       "  <tbody>\n",
       "    <tr>\n",
       "      <th>0</th>\n",
       "      <td>0.5</td>\n",
       "      <td>0.955128</td>\n",
       "    </tr>\n",
       "    <tr>\n",
       "      <th>1</th>\n",
       "      <td>0.6</td>\n",
       "      <td>0.950644</td>\n",
       "    </tr>\n",
       "    <tr>\n",
       "      <th>2</th>\n",
       "      <td>0.7</td>\n",
       "      <td>0.944085</td>\n",
       "    </tr>\n",
       "    <tr>\n",
       "      <th>3</th>\n",
       "      <td>0.8</td>\n",
       "      <td>0.932345</td>\n",
       "    </tr>\n",
       "    <tr>\n",
       "      <th>4</th>\n",
       "      <td>0.9</td>\n",
       "      <td>0.908459</td>\n",
       "    </tr>\n",
       "  </tbody>\n",
       "</table>\n",
       "</div>"
      ],
      "text/plain": [
       "   Size  test_accuracy\n",
       "0   0.5       0.955128\n",
       "1   0.6       0.950644\n",
       "2   0.7       0.944085\n",
       "3   0.8       0.932345\n",
       "4   0.9       0.908459"
      ]
     },
     "execution_count": 16,
     "metadata": {},
     "output_type": "execute_result"
    }
   ],
   "source": [
    "result_df = pd.DataFrame(columns=[\"Size\", \"test_accuracy\"])\n",
    "data_size = [0.5, 0.6, 0.7, 0.8, 0.9]\n",
    "for i in data_size:\n",
    "    \n",
    "    df_train, df_test = sklearn.model_selection.train_test_split(subset, test_size = i)\n",
    "    \n",
    "    x_train = df_train.drop(['target'], axis=1)\n",
    "    y_train = df_train['target']\n",
    "\n",
    "    x_test = df_test.drop(['target'], axis=1)\n",
    "    y_test = df_test['target']\n",
    "    \n",
    "    model_size = RandomForestClassifier()\n",
    "    model_size.fit(x_train, y_train)\n",
    "    \n",
    "    y_predicted = model_size.predict(x_train)\n",
    "    \n",
    "    y_predicted = model_size.predict(x_test)\n",
    "    test_accuracy = sklearn.metrics.accuracy_score (y_test, y_predicted) \n",
    "    \n",
    "    result_df = result_df.append({\"Size\": i, \n",
    "                                  \"test_accuracy\": test_accuracy}, ignore_index=True)\n",
    "    \n",
    "result_df"
   ]
  },
  {
   "cell_type": "markdown",
   "id": "da3850f2",
   "metadata": {},
   "source": [
    "According to the results of the iteration, it can be seen that the best and highest accuracy of the model was achieved with the ratio 50%/50%"
   ]
  },
  {
   "cell_type": "markdown",
   "id": "13d02875",
   "metadata": {},
   "source": [
    "### 4. Convert the dataset to two dimensions using Principal Component Analsysis. Repeat the analysis of question 2 using the best performing classifier trained using the different imbalanced datasets from the previous question and now that the data is 2D "
   ]
  },
  {
   "cell_type": "markdown",
   "id": "df11f817",
   "metadata": {},
   "source": [
    "To convert the dataset to two-dimensional space, use the function sklearn.decomposition.PCA with setting n_components equal to 2"
   ]
  },
  {
   "cell_type": "code",
   "execution_count": 19,
   "id": "b9058477",
   "metadata": {},
   "outputs": [
    {
     "data": {
      "text/html": [
       "<div>\n",
       "<style scoped>\n",
       "    .dataframe tbody tr th:only-of-type {\n",
       "        vertical-align: middle;\n",
       "    }\n",
       "\n",
       "    .dataframe tbody tr th {\n",
       "        vertical-align: top;\n",
       "    }\n",
       "\n",
       "    .dataframe thead th {\n",
       "        text-align: right;\n",
       "    }\n",
       "</style>\n",
       "<table border=\"1\" class=\"dataframe\">\n",
       "  <thead>\n",
       "    <tr style=\"text-align: right;\">\n",
       "      <th></th>\n",
       "      <th>Size</th>\n",
       "      <th>test_accuracy</th>\n",
       "    </tr>\n",
       "  </thead>\n",
       "  <tbody>\n",
       "    <tr>\n",
       "      <th>0</th>\n",
       "      <td>0.5</td>\n",
       "      <td>0.596180</td>\n",
       "    </tr>\n",
       "    <tr>\n",
       "      <th>1</th>\n",
       "      <td>0.6</td>\n",
       "      <td>0.597755</td>\n",
       "    </tr>\n",
       "    <tr>\n",
       "      <th>2</th>\n",
       "      <td>0.7</td>\n",
       "      <td>0.599229</td>\n",
       "    </tr>\n",
       "    <tr>\n",
       "      <th>3</th>\n",
       "      <td>0.8</td>\n",
       "      <td>0.601901</td>\n",
       "    </tr>\n",
       "    <tr>\n",
       "      <th>4</th>\n",
       "      <td>0.9</td>\n",
       "      <td>0.604719</td>\n",
       "    </tr>\n",
       "  </tbody>\n",
       "</table>\n",
       "</div>"
      ],
      "text/plain": [
       "   Size  test_accuracy\n",
       "0   0.5       0.596180\n",
       "1   0.6       0.597755\n",
       "2   0.7       0.599229\n",
       "3   0.8       0.601901\n",
       "4   0.9       0.604719"
      ]
     },
     "execution_count": 19,
     "metadata": {},
     "output_type": "execute_result"
    }
   ],
   "source": [
    "result_df = pd.DataFrame(columns=[\"Size\", \"test_accuracy\"])\n",
    "data_size = [0.5, 0.6, 0.7, 0.8, 0.9]\n",
    "for i in data_size:\n",
    "    \n",
    "    df_train_PCA, df_test_PCA = sklearn.model_selection.train_test_split(subset, test_size = i)\n",
    "    \n",
    "    x_train = df_train_PCA.drop(['target'], axis=1)\n",
    "    y_train = df_train_PCA['target']\n",
    "    \n",
    "    x_test = df_test_PCA.drop(['target'], axis=1)\n",
    "    y_test = df_test_PCA['target']\n",
    "    \n",
    "    # Building a PCA model\n",
    "    pca = sklearn.decomposition.PCA(n_components=2)\n",
    "    pca.fit(x_train)\n",
    "\n",
    "    # Reducing the number of training features\n",
    "    x_train_reduced = pca.transform(x_train)\n",
    "    \n",
    "    # Reducing the number of test features\n",
    "    x_test_reduced = pca.transform(x_test)\n",
    "    \n",
    "    # Building a RandomForestClassifier model\n",
    "    model_size = RandomForestClassifier()\n",
    "    model_size.fit(x_train_reduced, y_train)\n",
    "    \n",
    "    y_predicted = model_size.predict(x_test_reduced)\n",
    "    test_accuracy = sklearn.metrics.accuracy_score (y_test, y_predicted)\n",
    "    \n",
    "    result_df = result_df.append({\"Size\": i, \n",
    "                                  \"test_accuracy\": test_accuracy}, ignore_index=True)\n",
    "    \n",
    "result_df"
   ]
  },
  {
   "cell_type": "markdown",
   "id": "aaf9ba74",
   "metadata": {},
   "source": [
    "As a result of iteration, including the use of different sizes of test and training datasets, we got the accuracy of the model equal to less than 60%. This is less than with multidimensional space and this is logical. The Principal Component Analysis feature automatically stores the most relevant and most closely related spaces that affect the target variable as the number of spaces decreases. with such a significant decrease in features, it is obvious that there is not enough data for the model and it loses quality. Thus, the accuracy of the model has decreased."
   ]
  },
  {
   "cell_type": "markdown",
   "id": "279eac42",
   "metadata": {},
   "source": [
    "### 5.  For this question the goal is to explore what happens when the class priors in the training data are different from the class priors in the testing data. Consider the same class propoportions for training as in question 3 as well as well as using them for the test set. There will be a total of 5(train) by 5 (test) = 25 configurations. For each configuration run all the classifiers from question 2. Comment on the results and try to identify the best classifier in terms of robustness to mismatch of class priors between training and testing. "
   ]
  },
  {
   "cell_type": "markdown",
   "id": "ee55e095",
   "metadata": {},
   "source": [
    "The last task uses the widest range of functions, where almost all previous tasks are combined, while the number of iterations has increased to 25."
   ]
  },
  {
   "cell_type": "code",
   "execution_count": 20,
   "id": "c257c702",
   "metadata": {},
   "outputs": [
    {
     "name": "stdout",
     "output_type": "stream",
     "text": [
      "0.5 LR: 0.750870 (0.005587)\n",
      "0.5 LDA: 0.775308 (0.000774)\n",
      "0.5 DTS: 0.930860 (0.001448)\n",
      "0.5 RFC: 0.950374 (0.000495)\n",
      "0.5 NB: 0.617013 (0.002309)\n",
      "0.6 LR: 0.753539 (0.004933)\n",
      "0.6 LDA: 0.775255 (0.002131)\n",
      "0.6 DTS: 0.922204 (0.001001)\n",
      "0.6 RFC: 0.945263 (0.001021)\n",
      "0.6 NB: 0.619471 (0.002708)\n",
      "0.7 LR: 0.753255 (0.007287)\n",
      "0.7 LDA: 0.774077 (0.001919)\n",
      "0.7 DTS: 0.912341 (0.001872)\n",
      "0.7 RFC: 0.937216 (0.001285)\n",
      "0.7 NB: 0.621797 (0.003864)\n",
      "0.8 LR: 0.752424 (0.002239)\n",
      "0.8 LDA: 0.771489 (0.002905)\n",
      "0.8 DTS: 0.893576 (0.001510)\n",
      "0.8 RFC: 0.925092 (0.001625)\n",
      "0.8 NB: 0.615583 (0.003048)\n",
      "0.9 LR: 0.749485 (0.006485)\n",
      "0.9 LDA: 0.773418 (0.004994)\n",
      "0.9 DTS: 0.860666 (0.003108)\n",
      "0.9 RFC: 0.902856 (0.002524)\n",
      "0.9 NB: 0.615260 (0.007494)\n"
     ]
    }
   ],
   "source": [
    "test_size = [0.5, 0.6, 0.7, 0.8, 0.9]\n",
    "for j in test_size:\n",
    "    \n",
    "    df_train_5, df_test_5 = sklearn.model_selection.train_test_split(subset, test_size = j)\n",
    "    \n",
    "    x_train_5 = df_train_5.drop(['target'], axis=1)\n",
    "    y_train_5 = df_train_5['target']\n",
    "\n",
    "    x_test_5 = df_test_5.drop(['target'], axis=1)\n",
    "    y_test_5 = df_test_5['target']\n",
    "\n",
    "    # prepare configuration for cross validation test harness\n",
    "    seed = 7\n",
    "    # prepare models\n",
    "    models = []\n",
    "    models.append(('LR', LogisticRegression()))  \n",
    "    models.append(('LDA', LinearDiscriminantAnalysis()))  \n",
    "    models.append(('DTS', DecisionTreeClassifier()))  \n",
    "    models.append(('RFC', RandomForestClassifier()))  \n",
    "    models.append(('NB', GaussianNB()))   \n",
    "    # evaluate each model in turn\n",
    "    results = []\n",
    "    names = []\n",
    "    scoring = 'accuracy'\n",
    "    for name, model in models:\n",
    "        kfold = model_selection.KFold()\n",
    "        cv_results = model_selection.cross_val_score(model, x_train_5, y_train_5, cv=kfold, scoring=scoring) \n",
    "        results.append(cv_results)\n",
    "        names.append(name)\n",
    "        msg = \"%s: %f (%f)\" % (name, cv_results.mean(), cv_results.std())\n",
    "        print(j, msg)\n",
    "        "
   ]
  },
  {
   "cell_type": "markdown",
   "id": "c2a41fc6",
   "metadata": {},
   "source": [
    "The result of this iteration showed the following outcome for the best model that solves the two-type forest cover classification problem:\n",
    "- RandomForestClassifier() model\n",
    "- Accuracy 95%\n",
    "- Distribution of training and test datasets 50%/50%\n",
    "As a result, the observations show that we returned to the result that was achieved during iterations in the first question of this mini-project. In the first question, the same components were also given and, as a result, we got the same result."
   ]
  }
 ],
 "metadata": {
  "kernelspec": {
   "display_name": "Python 3 (ipykernel)",
   "language": "python",
   "name": "python3"
  },
  "language_info": {
   "codemirror_mode": {
    "name": "ipython",
    "version": 3
   },
   "file_extension": ".py",
   "mimetype": "text/x-python",
   "name": "python",
   "nbconvert_exporter": "python",
   "pygments_lexer": "ipython3",
   "version": "3.8.12"
  }
 },
 "nbformat": 4,
 "nbformat_minor": 5
}
